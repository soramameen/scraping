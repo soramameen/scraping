{
 "cells": [
  {
   "cell_type": "code",
   "execution_count": 1,
   "id": "dcc5f155-b718-46ca-b602-a1ab9f0a12e4",
   "metadata": {},
   "outputs": [
    {
     "name": "stdout",
     "output_type": "stream",
     "text": [
      "['2020', '3', '9']\n"
     ]
    }
   ],
   "source": [
    "month =\"2020-3-9\"\n",
    "data = month.split(\"-\")\n",
    "print(data)"
   ]
  },
  {
   "cell_type": "code",
   "execution_count": 2,
   "id": "caedd40e-f940-412f-9e59-25f4dc2074da",
   "metadata": {},
   "outputs": [
    {
     "name": "stdout",
     "output_type": "stream",
     "text": [
      "['a', 'b', 'c']\n",
      "['a', 'b', 'c']\n"
     ]
    }
   ],
   "source": [
    "data = ['a','b','c']\n",
    "print(data)\n",
    "data2 = set(data)\n",
    "print(data2)s"
   ]
  },
  {
   "cell_type": "code",
   "execution_count": 3,
   "id": "1d9b4acb-0509-4140-96b3-b534dc1d8ab9",
   "metadata": {},
   "outputs": [
    {
     "name": "stdout",
     "output_type": "stream",
     "text": [
      "['a', 'b', 'c']\n",
      "{'b', 'a', 'c'}\n"
     ]
    }
   ],
   "source": [
    "data = ['a','b','c']\n",
    "print(data)\n",
    "data2 = set(data)\n",
    "print(data2)"
   ]
  },
  {
   "cell_type": "code",
   "execution_count": 4,
   "id": "1b1879e1-9743-4764-aaf6-8868a98b2d05",
   "metadata": {},
   "outputs": [
    {
     "name": "stdout",
     "output_type": "stream",
     "text": [
      "['a', 'b', 'c']\n"
     ]
    }
   ],
   "source": [
    "print(data)"
   ]
  },
  {
   "cell_type": "code",
   "execution_count": 6,
   "id": "8493300e-5ab6-4fda-bbb2-bdfd0f7723c8",
   "metadata": {},
   "outputs": [],
   "source": [
    "data2.add('d')"
   ]
  },
  {
   "cell_type": "code",
   "execution_count": null,
   "id": "38aacf60-98f0-4daa-ada3-8fbff7d59f93",
   "metadata": {},
   "outputs": [],
   "source": []
  },
  {
   "cell_type": "code",
   "execution_count": 7,
   "id": "0d1e6018-f71c-49bc-b86c-54e6d2e77da6",
   "metadata": {},
   "outputs": [],
   "source": [
    "data2.add('d')"
   ]
  },
  {
   "cell_type": "code",
   "execution_count": 8,
   "id": "89b4a28a-c2f5-4544-b659-0e4080f13e11",
   "metadata": {},
   "outputs": [
    {
     "name": "stdout",
     "output_type": "stream",
     "text": [
      "{'d', 'b', 'a', 'c'}\n"
     ]
    }
   ],
   "source": [
    "print(data2)"
   ]
  },
  {
   "cell_type": "code",
   "execution_count": 9,
   "id": "9acdaa60-4165-48ae-8766-5109bc818861",
   "metadata": {},
   "outputs": [],
   "source": [
    "data2.remove('a')"
   ]
  },
  {
   "cell_type": "code",
   "execution_count": null,
   "id": "fb9b1eaf-4d29-47b7-b2d1-3f0fea92dc6d",
   "metadata": {},
   "outputs": [],
   "source": []
  },
  {
   "cell_type": "code",
   "execution_count": null,
   "id": "6dc205ea-8791-45c6-b92c-5b2ea2e5fcfd",
   "metadata": {},
   "outputs": [],
   "source": [
    "("
   ]
  },
  {
   "cell_type": "code",
   "execution_count": 10,
   "id": "034b0443-9e66-4592-a43a-c6a7904fa5c0",
   "metadata": {},
   "outputs": [
    {
     "ename": "KeyError",
     "evalue": "'a'",
     "output_type": "error",
     "traceback": [
      "\u001b[0;31m---------------------------------------------------------------------------\u001b[0m",
      "\u001b[0;31mKeyError\u001b[0m                                  Traceback (most recent call last)",
      "Cell \u001b[0;32mIn[10], line 1\u001b[0m\n\u001b[0;32m----> 1\u001b[0m \u001b[43mdata2\u001b[49m\u001b[38;5;241;43m.\u001b[39;49m\u001b[43mremove\u001b[49m\u001b[43m(\u001b[49m\u001b[38;5;124;43m'\u001b[39;49m\u001b[38;5;124;43ma\u001b[39;49m\u001b[38;5;124;43m'\u001b[39;49m\u001b[43m)\u001b[49m\n",
      "\u001b[0;31mKeyError\u001b[0m: 'a'"
     ]
    }
   ],
   "source": [
    "data2.remove('a')"
   ]
  },
  {
   "cell_type": "code",
   "execution_count": 11,
   "id": "f677b09f-000c-494f-a3b9-792481197707",
   "metadata": {},
   "outputs": [
    {
     "name": "stdout",
     "output_type": "stream",
     "text": [
      "{'d', 'c'}\n"
     ]
    }
   ],
   "source": [
    "data2.remove('b')\n",
    "print(data2)"
   ]
  },
  {
   "cell_type": "code",
   "execution_count": 12,
   "id": "c3b45c04-dbcb-4303-81eb-fb765b6d963c",
   "metadata": {},
   "outputs": [
    {
     "name": "stdout",
     "output_type": "stream",
     "text": [
      "{'b', 'a', 'c'}\n"
     ]
    }
   ],
   "source": [
    "data3 = {'a','b'}\n",
    "data4 = {'b','c'}\n",
    "data5 = data3.union(data4)\n",
    "print(data5)"
   ]
  },
  {
   "cell_type": "code",
   "execution_count": 13,
   "id": "0621a69a-78ec-4d5c-9417-945cc84c39ac",
   "metadata": {},
   "outputs": [
    {
     "name": "stdout",
     "output_type": "stream",
     "text": [
      "{'b'}\n"
     ]
    }
   ],
   "source": [
    "data6 = data3.intersection(data4)\n",
    "print(data6)"
   ]
  },
  {
   "cell_type": "code",
   "execution_count": 14,
   "id": "8986e4ec-dbee-40c2-b2a5-161a66834cd8",
   "metadata": {},
   "outputs": [
    {
     "name": "stdout",
     "output_type": "stream",
     "text": [
      "{'a'}\n"
     ]
    }
   ],
   "source": [
    "data7 = data3.difference(data4)\n",
    "print(data7)"
   ]
  },
  {
   "cell_type": "code",
   "execution_count": 15,
   "id": "7db2f5a6-da28-4270-9c19-107716a94486",
   "metadata": {},
   "outputs": [
    {
     "name": "stdout",
     "output_type": "stream",
     "text": [
      "{'a', 'c'}\n"
     ]
    }
   ],
   "source": [
    "data8 = data3.symmetric_difference(data4)\n",
    "print(data8)"
   ]
  },
  {
   "cell_type": "code",
   "execution_count": 16,
   "id": "cefef080-e674-4f1f-9e48-17f11a3e340b",
   "metadata": {},
   "outputs": [
    {
     "name": "stdout",
     "output_type": "stream",
     "text": [
      "False\n"
     ]
    }
   ],
   "source": [
    "print(data3.issubset(data4))"
   ]
  },
  {
   "cell_type": "code",
   "execution_count": 17,
   "id": "7a0e2d65-2848-41e1-ab0e-4494df8ed3b7",
   "metadata": {},
   "outputs": [],
   "source": [
    "import requests\n",
    "from bs4 import BeautifulSoup"
   ]
  },
  {
   "cell_type": "code",
   "execution_count": 18,
   "id": "2344e86d-ffdd-4927-8d7f-db4a340d2a64",
   "metadata": {},
   "outputs": [],
   "source": [
    "url= 'https://ja.wikipedia.org/wiki/%E3%83%A1%E3%82%A4%E3%83%B3%E3%83%9A%E3%83%BC%E3%82%B8'\n",
    "response = requests.get(url)"
   ]
  },
  {
   "cell_type": "code",
   "execution_count": 19,
   "id": "ea16989f-181a-4d9a-93d8-2b189d0cc542",
   "metadata": {},
   "outputs": [],
   "source": [
    "soup = BeautifulSoup(response.content,\"html.parser\")"
   ]
  },
  {
   "cell_type": "code",
   "execution_count": 20,
   "id": "47cc4a76-2ed6-42ce-b451-0433f6272394",
   "metadata": {},
   "outputs": [
    {
     "name": "stdout",
     "output_type": "stream",
     "text": [
      "\n",
      "今日は何の日 7月15日\n",
      "\n",
      "海の日\n",
      "中元・お盆\n",
      "エルサレム攻囲戦（1099年）\n",
      "タンネンベルクの戦い（1410年）\n",
      "ロゼッタ・ストーン発見（1799年）\n",
      "ベニート・フアレスがメキシコの共和制への復帰を宣言（1867年）\n",
      "日本共産党が非合法下で結成（1922年）\n",
      "第1次近衛内閣が閣議で1940年東京オリンピックの開催権返上を決定（1938年）\n",
      "三鷹事件（1949年）\n",
      "マイナウ宣言発表。18人のノーベル賞受賞者が核兵器の使用中止を訴える（1955年）\n",
      "キプロスでクーデター勃発（1974年）\n",
      "ファミリーコンピュータ発売（1983年）\n",
      "免田事件：再審で、熊本地裁八代支部が無罪判決。死刑が確定した被告人に対する初の再審無罪判決（1983年）\n",
      "1949年以来続いてきた台湾の戒厳令が解除される（1987年）\n",
      "トルコクーデター未遂事件発生（2016年）\n",
      "博多祇園山笠追い山（最終日、午前4時59分から）\n",
      "\n"
     ]
    }
   ],
   "source": [
    "today = soup.find(\"div\",attrs ={\"id\" : \"on_this_day\"}).text\n",
    "print(today)"
   ]
  },
  {
   "cell_type": "code",
   "execution_count": 21,
   "id": "e02f0035-bcae-43fb-8ff6-aa72fb44057c",
   "metadata": {},
   "outputs": [
    {
     "ename": "AttributeError",
     "evalue": "'str' object has no attribute 'find_all'",
     "output_type": "error",
     "traceback": [
      "\u001b[0;31m---------------------------------------------------------------------------\u001b[0m",
      "\u001b[0;31mAttributeError\u001b[0m                            Traceback (most recent call last)",
      "Cell \u001b[0;32mIn[21], line 1\u001b[0m\n\u001b[0;32m----> 1\u001b[0m entries \u001b[38;5;241m=\u001b[39m \u001b[43mtoday\u001b[49m\u001b[38;5;241;43m.\u001b[39;49m\u001b[43mfind_all\u001b[49m(\u001b[38;5;124m\"\u001b[39m\u001b[38;5;124mli\u001b[39m\u001b[38;5;124m\"\u001b[39m)\n\u001b[1;32m      3\u001b[0m \u001b[38;5;28;01mfor\u001b[39;00m index,entry \u001b[38;5;129;01min\u001b[39;00m \u001b[38;5;28menumerate\u001b[39m(entries):\n\u001b[1;32m      4\u001b[0m     today_list\u001b[38;5;241m.\u001b[39mappend([index, entry\u001b[38;5;241m.\u001b[39mget_text()])\n",
      "\u001b[0;31mAttributeError\u001b[0m: 'str' object has no attribute 'find_all'"
     ]
    }
   ],
   "source": [
    "entries = today.find_all(\"li\")\n",
    "\n",
    "for index,entry in enumerate(entries):\n",
    "    today_list.append([index, entry.get_text()])\n",
    "print(today_list)\n",
    "    \n",
    "    "
   ]
  },
  {
   "cell_type": "code",
   "execution_count": 22,
   "id": "21fd267a-24a1-4c43-bf70-489fb52b79b1",
   "metadata": {},
   "outputs": [
    {
     "ename": "NameError",
     "evalue": "name 'today_list' is not defined",
     "output_type": "error",
     "traceback": [
      "\u001b[0;31m---------------------------------------------------------------------------\u001b[0m",
      "\u001b[0;31mNameError\u001b[0m                                 Traceback (most recent call last)",
      "Cell \u001b[0;32mIn[22], line 5\u001b[0m\n\u001b[1;32m      2\u001b[0m entries \u001b[38;5;241m=\u001b[39m today\u001b[38;5;241m.\u001b[39mfind_all(\u001b[38;5;124m\"\u001b[39m\u001b[38;5;124mli\u001b[39m\u001b[38;5;124m\"\u001b[39m)\n\u001b[1;32m      4\u001b[0m \u001b[38;5;28;01mfor\u001b[39;00m index,entry \u001b[38;5;129;01min\u001b[39;00m \u001b[38;5;28menumerate\u001b[39m(entries):\n\u001b[0;32m----> 5\u001b[0m     \u001b[43mtoday_list\u001b[49m\u001b[38;5;241m.\u001b[39mappend([index, entry\u001b[38;5;241m.\u001b[39mget_text()])\n\u001b[1;32m      6\u001b[0m \u001b[38;5;28mprint\u001b[39m(today_list)\n",
      "\u001b[0;31mNameError\u001b[0m: name 'today_list' is not defined"
     ]
    }
   ],
   "source": [
    "today = soup.find(\"div\",attrs ={\"id\" : \"on_this_day\"})\n",
    "entries = today.find_all(\"li\")\n",
    "\n",
    "for index,entry in enumerate(entries):\n",
    "    today_list.append([index, entry.get_text()])\n",
    "print(today_list)\n"
   ]
  },
  {
   "cell_type": "code",
   "execution_count": 23,
   "id": "6d49cc69-0f90-4e55-bfdd-9c9e2913e1f4",
   "metadata": {},
   "outputs": [
    {
     "ename": "SyntaxError",
     "evalue": "invalid syntax (2349635557.py, line 3)",
     "output_type": "error",
     "traceback": [
      "\u001b[0;36m  Cell \u001b[0;32mIn[23], line 3\u001b[0;36m\u001b[0m\n\u001b[0;31m    today_list[]\u001b[0m\n\u001b[0m               ^\u001b[0m\n\u001b[0;31mSyntaxError\u001b[0m\u001b[0;31m:\u001b[0m invalid syntax\n"
     ]
    }
   ],
   "source": [
    "today = soup.find(\"div\",attrs ={\"id\" : \"on_this_day\"})\n",
    "entries = today.find_all(\"li\")\n",
    "today_list[]\n",
    "for index,entry in enumerate(entries):\n",
    "    today_list.append([index, entry.get_text()])\n",
    "print(today_list)\n"
   ]
  },
  {
   "cell_type": "code",
   "execution_count": 24,
   "id": "cf7073f6-c37c-484a-903f-bbf397995d75",
   "metadata": {},
   "outputs": [
    {
     "name": "stdout",
     "output_type": "stream",
     "text": [
      "[[0, '海の日'], [1, '中元・お盆'], [2, 'エルサレム攻囲戦（1099年）'], [3, 'タンネンベルクの戦い（1410年）'], [4, 'ロゼッタ・ストーン発見（1799年）'], [5, 'ベニート・フアレスがメキシコの共和制への復帰を宣言（1867年）'], [6, '日本共産党が非合法下で結成（1922年）'], [7, '第1次近衛内閣が閣議で1940年東京オリンピックの開催権返上を決定（1938年）'], [8, '三鷹事件（1949年）'], [9, 'マイナウ宣言発表。18人のノーベル賞受賞者が核兵器の使用中止を訴える（1955年）'], [10, 'キプロスでクーデター勃発（1974年）'], [11, 'ファミリーコンピュータ発売（1983年）'], [12, '免田事件：再審で、熊本地裁八代支部が無罪判決。死刑が確定した被告人に対する初の再審無罪判決（1983年）'], [13, '1949年以来続いてきた台湾の戒厳令が解除される（1987年）'], [14, 'トルコクーデター未遂事件発生（2016年）'], [15, '博多祇園山笠追い山（最終日、午前4時59分から）']]\n"
     ]
    }
   ],
   "source": [
    "today = soup.find(\"div\",attrs ={\"id\" : \"on_this_day\"})\n",
    "entries = today.find_all(\"li\")\n",
    "today_list = []\n",
    "for index,entry in enumerate(entries):\n",
    "    today_list.append([index+1+'個め', entry.get_text()])\n",
    "print(today_list)\n"
   ]
  },
  {
   "cell_type": "code",
   "execution_count": 25,
   "id": "74ae945b-b1ca-4e5f-961e-dabcdea64ed0",
   "metadata": {},
   "outputs": [
    {
     "ename": "TypeError",
     "evalue": "unsupported operand type(s) for +: 'int' and 'str'",
     "output_type": "error",
     "traceback": [
      "\u001b[0;31m---------------------------------------------------------------------------\u001b[0m",
      "\u001b[0;31mTypeError\u001b[0m                                 Traceback (most recent call last)",
      "Cell \u001b[0;32mIn[25], line 5\u001b[0m\n\u001b[1;32m      3\u001b[0m today_list \u001b[38;5;241m=\u001b[39m []\n\u001b[1;32m      4\u001b[0m \u001b[38;5;28;01mfor\u001b[39;00m index,entry \u001b[38;5;129;01min\u001b[39;00m \u001b[38;5;28menumerate\u001b[39m(entries):\n\u001b[0;32m----> 5\u001b[0m     today_list\u001b[38;5;241m.\u001b[39mappend([\u001b[43mindex\u001b[49m\u001b[38;5;241;43m+\u001b[39;49m\u001b[38;5;241;43m1\u001b[39;49m\u001b[38;5;241;43m+\u001b[39;49m\u001b[38;5;124;43m'\u001b[39;49m\u001b[38;5;124;43m個め\u001b[39;49m\u001b[38;5;124;43m'\u001b[39;49m, entry\u001b[38;5;241m.\u001b[39mget_text()])\n\u001b[1;32m      6\u001b[0m \u001b[38;5;28mprint\u001b[39m(today_list)\n",
      "\u001b[0;31mTypeError\u001b[0m: unsupported operand type(s) for +: 'int' and 'str'"
     ]
    }
   ],
   "source": [
    "today = soup.find(\"div\",attrs ={\"id\" : \"on_this_day\"})\n",
    "entries = today.find_all(\"li\")\n",
    "today_list = []\n",
    "for index,entry in enumerate(entries):\n",
    "    today_list.append([index+1+'個め', entry.get_text()])\n",
    "print(today_list)"
   ]
  },
  {
   "cell_type": "code",
   "execution_count": 26,
   "id": "d5901880-6f16-40f1-86cb-ff8b09517804",
   "metadata": {},
   "outputs": [
    {
     "name": "stdout",
     "output_type": "stream",
     "text": [
      "[['1個め', '海の日'], ['2個め', '中元・お盆'], ['3個め', 'エルサレム攻囲戦（1099年）'], ['4個め', 'タンネンベルクの戦い（1410年）'], ['5個め', 'ロゼッタ・ストーン発見（1799年）'], ['6個め', 'ベニート・フアレスがメキシコの共和制への復帰を宣言（1867年）'], ['7個め', '日本共産党が非合法下で結成（1922年）'], ['8個め', '第1次近衛内閣が閣議で1940年東京オリンピックの開催権返上を決定（1938年）'], ['9個め', '三鷹事件（1949年）'], ['10個め', 'マイナウ宣言発表。18人のノーベル賞受賞者が核兵器の使用中止を訴える（1955年）'], ['11個め', 'キプロスでクーデター勃発（1974年）'], ['12個め', 'ファミリーコンピュータ発売（1983年）'], ['13個め', '免田事件：再審で、熊本地裁八代支部が無罪判決。死刑が確定した被告人に対する初の再審無罪判決（1983年）'], ['14個め', '1949年以来続いてきた台湾の戒厳令が解除される（1987年）'], ['15個め', 'トルコクーデター未遂事件発生（2016年）'], ['16個め', '博多祇園山笠追い山（最終日、午前4時59分から）']]\n"
     ]
    }
   ],
   "source": [
    "today = soup.find(\"div\",attrs ={\"id\" : \"on_this_day\"})\n",
    "entries = today.find_all(\"li\")\n",
    "today_list = []\n",
    "for index,entry in enumerate(entries):\n",
    "    today_list.append([str(index+1)+'個め', entry.get_text()])\n",
    "print(today_list)"
   ]
  },
  {
   "cell_type": "code",
   "execution_count": 27,
   "id": "3ddd9a6b-b073-43f9-9bce-82d377f5fcc9",
   "metadata": {},
   "outputs": [
    {
     "ename": "TypeError",
     "evalue": "can only concatenate str (not \"Tag\") to str",
     "output_type": "error",
     "traceback": [
      "\u001b[0;31m---------------------------------------------------------------------------\u001b[0m",
      "\u001b[0;31mTypeError\u001b[0m                                 Traceback (most recent call last)",
      "Cell \u001b[0;32mIn[27], line 5\u001b[0m\n\u001b[1;32m      3\u001b[0m today_list \u001b[38;5;241m=\u001b[39m []\n\u001b[1;32m      4\u001b[0m \u001b[38;5;28;01mfor\u001b[39;00m index,entry \u001b[38;5;129;01min\u001b[39;00m \u001b[38;5;28menumerate\u001b[39m(entries):\n\u001b[0;32m----> 5\u001b[0m     \u001b[38;5;28mprint\u001b[39m(\u001b[38;5;28;43mstr\u001b[39;49m\u001b[43m(\u001b[49m\u001b[43mindex\u001b[49m\u001b[43m)\u001b[49m\u001b[38;5;241;43m+\u001b[39;49m\u001b[38;5;124;43m\"\u001b[39;49m\u001b[38;5;124;43m:\u001b[39;49m\u001b[38;5;124;43m\"\u001b[39;49m\u001b[38;5;241;43m+\u001b[39;49m\u001b[43mentry\u001b[49m)\n",
      "\u001b[0;31mTypeError\u001b[0m: can only concatenate str (not \"Tag\") to str"
     ]
    }
   ],
   "source": [
    "today = soup.find(\"div\",attrs ={\"id\" : \"on_this_day\"})\n",
    "entries = today.find_all(\"li\")\n",
    "today_list = []\n",
    "for index,entry in enumerate(entries):\n",
    "    print(str(index)+\":\"+entry)"
   ]
  },
  {
   "cell_type": "code",
   "execution_count": 28,
   "id": "9e6d4133-0a78-4e2f-9eaf-639f2077c10f",
   "metadata": {},
   "outputs": [
    {
     "name": "stdout",
     "output_type": "stream",
     "text": [
      "0:海の日\n",
      "1:中元・お盆\n",
      "2:エルサレム攻囲戦（1099年）\n",
      "3:タンネンベルクの戦い（1410年）\n",
      "4:ロゼッタ・ストーン発見（1799年）\n",
      "5:ベニート・フアレスがメキシコの共和制への復帰を宣言（1867年）\n",
      "6:日本共産党が非合法下で結成（1922年）\n",
      "7:第1次近衛内閣が閣議で1940年東京オリンピックの開催権返上を決定（1938年）\n",
      "8:三鷹事件（1949年）\n",
      "9:マイナウ宣言発表。18人のノーベル賞受賞者が核兵器の使用中止を訴える（1955年）\n",
      "10:キプロスでクーデター勃発（1974年）\n",
      "11:ファミリーコンピュータ発売（1983年）\n",
      "12:免田事件：再審で、熊本地裁八代支部が無罪判決。死刑が確定した被告人に対する初の再審無罪判決（1983年）\n",
      "13:1949年以来続いてきた台湾の戒厳令が解除される（1987年）\n",
      "14:トルコクーデター未遂事件発生（2016年）\n",
      "15:博多祇園山笠追い山（最終日、午前4時59分から）\n"
     ]
    }
   ],
   "source": [
    "today = soup.find(\"div\",attrs ={\"id\" : \"on_this_day\"})\n",
    "entries = today.find_all(\"li\")\n",
    "today_list = []\n",
    "for index,entry in enumerate(entries):\n",
    "    print(str(index)+\":\"+entry.get_text())"
   ]
  },
  {
   "cell_type": "code",
   "execution_count": 29,
   "id": "c609c473-374a-40bb-9872-245a8fb86ed1",
   "metadata": {},
   "outputs": [
    {
     "ename": "SyntaxError",
     "evalue": "invalid syntax. Maybe you meant '==' or ':=' instead of '='? (1456171590.py, line 6)",
     "output_type": "error",
     "traceback": [
      "\u001b[0;36m  Cell \u001b[0;32mIn[29], line 6\u001b[0;36m\u001b[0m\n\u001b[0;31m    with(\"output.csv\",\"w\",encoding=\"Shift_JIS\") as file:\u001b[0m\n\u001b[0m                          ^\u001b[0m\n\u001b[0;31mSyntaxError\u001b[0m\u001b[0;31m:\u001b[0m invalid syntax. Maybe you meant '==' or ':=' instead of '='?\n"
     ]
    }
   ],
   "source": [
    "import csv\n",
    "\n",
    "today_list = []\n",
    "for index,entry in enumerate(entries):\n",
    "    today_list.append([index,entry.get_text()])\n",
    "with(\"output.csv\",\"w\",encoding=\"Shift_JIS\") as file:\n",
    "\n",
    "writer = csv.writer(file, lineterminator=\"\\n\")\n",
    "writer.writerows(today_list)"
   ]
  },
  {
   "cell_type": "code",
   "execution_count": 30,
   "id": "d5b49a61-1480-45ea-a9c5-6a387e3225b6",
   "metadata": {},
   "outputs": [
    {
     "ename": "IndentationError",
     "evalue": "expected an indented block after 'with' statement on line 6 (1780799017.py, line 8)",
     "output_type": "error",
     "traceback": [
      "\u001b[0;36m  Cell \u001b[0;32mIn[30], line 8\u001b[0;36m\u001b[0m\n\u001b[0;31m    writer = csv.writer(file, lineterminator=\"\\n\")\u001b[0m\n\u001b[0m    ^\u001b[0m\n\u001b[0;31mIndentationError\u001b[0m\u001b[0;31m:\u001b[0m expected an indented block after 'with' statement on line 6\n"
     ]
    }
   ],
   "source": [
    "import csv\n",
    "\n",
    "today_list = []\n",
    "for index,entry in enumerate(entries):\n",
    "    today_list.append([index,entry.get_text()])\n",
    "with(\"output.csv\",\"w\",encoding == \"Shift_JIS\") as file:\n",
    "\n",
    "writer = csv.writer(file, lineterminator=\"\\n\")\n",
    "writer.writerows(today_list)"
   ]
  },
  {
   "cell_type": "code",
   "execution_count": 31,
   "id": "c8060a17-ef2d-4a7f-8ef8-bbcc27a8a66b",
   "metadata": {},
   "outputs": [
    {
     "ename": "NameError",
     "evalue": "name 'encoding' is not defined",
     "output_type": "error",
     "traceback": [
      "\u001b[0;31m---------------------------------------------------------------------------\u001b[0m",
      "\u001b[0;31mNameError\u001b[0m                                 Traceback (most recent call last)",
      "Cell \u001b[0;32mIn[31], line 6\u001b[0m\n\u001b[1;32m      4\u001b[0m \u001b[38;5;28;01mfor\u001b[39;00m index,entry \u001b[38;5;129;01min\u001b[39;00m \u001b[38;5;28menumerate\u001b[39m(entries):\n\u001b[1;32m      5\u001b[0m     today_list\u001b[38;5;241m.\u001b[39mappend([index,entry\u001b[38;5;241m.\u001b[39mget_text()])\n\u001b[0;32m----> 6\u001b[0m \u001b[38;5;28;01mwith\u001b[39;00m(\u001b[38;5;124m\"\u001b[39m\u001b[38;5;124moutput.csv\u001b[39m\u001b[38;5;124m\"\u001b[39m,\u001b[38;5;124m\"\u001b[39m\u001b[38;5;124mw\u001b[39m\u001b[38;5;124m\"\u001b[39m,\u001b[43mencoding\u001b[49m \u001b[38;5;241m==\u001b[39m \u001b[38;5;124m\"\u001b[39m\u001b[38;5;124mShift_JIS\u001b[39m\u001b[38;5;124m\"\u001b[39m) \u001b[38;5;28;01mas\u001b[39;00m file:\n\u001b[1;32m      7\u001b[0m     writer \u001b[38;5;241m=\u001b[39m csv\u001b[38;5;241m.\u001b[39mwriter(file, lineterminator\u001b[38;5;241m=\u001b[39m\u001b[38;5;124m\"\u001b[39m\u001b[38;5;130;01m\\n\u001b[39;00m\u001b[38;5;124m\"\u001b[39m)\n\u001b[1;32m      8\u001b[0m     writer\u001b[38;5;241m.\u001b[39mwriterows(today_list)\n",
      "\u001b[0;31mNameError\u001b[0m: name 'encoding' is not defined"
     ]
    }
   ],
   "source": [
    "import csv\n",
    "\n",
    "today_list = []\n",
    "for index,entry in enumerate(entries):\n",
    "    today_list.append([index,entry.get_text()])\n",
    "with open(\"output.csv\",\"w\",encoding == \"Shift_JIS\") as file:\n",
    "    writer = csv.writer(file, lineterminator=\"\\n\")\n",
    "    writer.writerows(today_list)"
   ]
  },
  {
   "cell_type": "code",
   "execution_count": 32,
   "id": "7b3c7277-86d5-4f7a-93a4-bfd471ae1ba9",
   "metadata": {},
   "outputs": [
    {
     "ename": "NameError",
     "evalue": "name 'encoding' is not defined",
     "output_type": "error",
     "traceback": [
      "\u001b[0;31m---------------------------------------------------------------------------\u001b[0m",
      "\u001b[0;31mNameError\u001b[0m                                 Traceback (most recent call last)",
      "Cell \u001b[0;32mIn[32], line 6\u001b[0m\n\u001b[1;32m      4\u001b[0m \u001b[38;5;28;01mfor\u001b[39;00m index,entry \u001b[38;5;129;01min\u001b[39;00m \u001b[38;5;28menumerate\u001b[39m(entries):\n\u001b[1;32m      5\u001b[0m     today_list\u001b[38;5;241m.\u001b[39mappend([index,entry\u001b[38;5;241m.\u001b[39mget_text()])\n\u001b[0;32m----> 6\u001b[0m \u001b[38;5;28;01mwith\u001b[39;00m \u001b[38;5;28mopen\u001b[39m(\u001b[38;5;124m\"\u001b[39m\u001b[38;5;124moutput.csv\u001b[39m\u001b[38;5;124m\"\u001b[39m,\u001b[38;5;124m\"\u001b[39m\u001b[38;5;124mw\u001b[39m\u001b[38;5;124m\"\u001b[39m,\u001b[43mencoding\u001b[49m \u001b[38;5;241m==\u001b[39m \u001b[38;5;124m\"\u001b[39m\u001b[38;5;124mShift_JIS\u001b[39m\u001b[38;5;124m\"\u001b[39m) \u001b[38;5;28;01mas\u001b[39;00m file:\n\u001b[1;32m      7\u001b[0m     writer \u001b[38;5;241m=\u001b[39m csv\u001b[38;5;241m.\u001b[39mwriter(file, lineterminator\u001b[38;5;241m=\u001b[39m\u001b[38;5;124m\"\u001b[39m\u001b[38;5;130;01m\\n\u001b[39;00m\u001b[38;5;124m\"\u001b[39m)\n\u001b[1;32m      8\u001b[0m     writer\u001b[38;5;241m.\u001b[39mwriterows(today_list)\n",
      "\u001b[0;31mNameError\u001b[0m: name 'encoding' is not defined"
     ]
    }
   ],
   "source": [
    "import csv\n",
    "\n",
    "today_list = []\n",
    "for index,entry in enumerate(entries):\n",
    "    today_list.append([index,entry.get_text()])\n",
    "with open(\"output.csv\",\"w\",encoding == \"Shift_JIS\") as file:\n",
    "    writer = csv.writer(file, lineterminator=\"\\n\")\n",
    "    writer.writerows(today_list)"
   ]
  },
  {
   "cell_type": "code",
   "execution_count": null,
   "id": "9e3f1b40-194c-4a6f-bb50-52b807e1b339",
   "metadata": {},
   "outputs": [],
   "source": [
    "import csv\n",
    "\n",
    "today_list = []\n",
    "for index,entry in enumerate(entries):\n",
    "    today_list.append([index,entry.get_text()])\n",
    "with open(\"output.csv\", \"w\", encoding=\"Shift_JIS\", newline='') as file:\n",
    "    writer = csv.writer(file, lineterminator=\"\\n\")\n",
    "    writer.writerows(today_list)"
   ]
  }
 ],
 "metadata": {
  "kernelspec": {
   "display_name": "Python 3 (ipykernel)",
   "language": "python",
   "name": "python3"
  },
  "language_info": {
   "codemirror_mode": {
    "name": "ipython",
    "version": 3
   },
   "file_extension": ".py",
   "mimetype": "text/x-python",
   "name": "python",
   "nbconvert_exporter": "python",
   "pygments_lexer": "ipython3",
   "version": "3.10.12"
  }
 },
 "nbformat": 4,
 "nbformat_minor": 5
}
